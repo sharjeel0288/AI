{
  "nbformat": 4,
  "nbformat_minor": 0,
  "metadata": {
    "colab": {
      "provenance": []
    },
    "kernelspec": {
      "name": "python3",
      "display_name": "Python 3"
    },
    "language_info": {
      "name": "python"
    }
  },
  "cells": [
    {
      "cell_type": "code",
      "execution_count": null,
      "metadata": {
        "colab": {
          "base_uri": "https://localhost:8080/"
        },
        "id": "s4UC314JTbPJ",
        "outputId": "a34f7bb3-f814-4f10-89af-e5adec72a4a9"
      },
      "outputs": [
        {
          "output_type": "stream",
          "name": "stdout",
          "text": [
            "Plan 3 is most likely responsible for the defective product.\n"
          ]
        }
      ],
      "source": [
        "P_Plan1 = 0.3\n",
        "P_Plan2 = 0.2\n",
        "P_Plan3 = 0.5\n",
        "\n",
        "P_D_given_Plan1 = 0.01\n",
        "P_D_given_Plan2 = 0.03\n",
        "P_D_given_Plan3 = 0.02\n",
        "\n",
        "P_D = P_Plan1 * P_D_given_Plan1 + P_Plan2 * P_D_given_Plan2 + P_Plan3 * P_D_given_Plan3\n",
        "\n",
        "P_Plan1_given_D = (P_Plan1 * P_D_given_Plan1) / P_D\n",
        "P_Plan2_given_D = (P_Plan2 * P_D_given_Plan2) / P_D\n",
        "P_Plan3_given_D = (P_Plan3 * P_D_given_Plan3) / P_D\n",
        "\n",
        "if P_Plan1_given_D > P_Plan2_given_D and P_Plan1_given_D > P_Plan3_given_D:\n",
        "    print(\"Plan 1 is most likely responsible for the defective product.\")\n",
        "elif P_Plan2_given_D > P_Plan1_given_D and P_Plan2_given_D > P_Plan3_given_D:\n",
        "    print(\"Plan 2 is most likely responsible for the defective product.\")\n",
        "else:\n",
        "    print(\"Plan 3 is most likely responsible for the defective product.\")\n"
      ]
    }
  ]
}
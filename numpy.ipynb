{
 "cells": [
  {
   "cell_type": "code",
   "execution_count": 26,
   "metadata": {},
   "outputs": [],
   "source": [
    "import numpy as np"
   ]
  },
  {
   "cell_type": "code",
   "execution_count": 27,
   "metadata": {},
   "outputs": [],
   "source": [
    "data=np.random.rand(2,3,4) #  x y z\n",
    "zeros=np.zeros((2,2,2))\n",
    "full=np.full((2,2,2),7)\n",
    "ones=np.ones((2,2,2))"
   ]
  },
  {
   "cell_type": "code",
   "execution_count": 28,
   "metadata": {},
   "outputs": [
    {
     "name": "stdout",
     "output_type": "stream",
     "text": [
      "[[[0.22611906 0.340451   0.62859971 0.47315313]\n",
      "  [0.40293623 0.42255045 0.69406764 0.9900187 ]\n",
      "  [0.46086838 0.48731473 0.57165599 0.37958446]]\n",
      "\n",
      " [[0.02529236 0.25226578 0.77530968 0.01118228]\n",
      "  [0.29229026 0.94828714 0.53851451 0.1499894 ]\n",
      "  [0.42595549 0.48447989 0.75203819 0.34360671]]]\n"
     ]
    }
   ],
   "source": [
    "print(data)"
   ]
  },
  {
   "cell_type": "code",
   "execution_count": 29,
   "metadata": {},
   "outputs": [
    {
     "name": "stdout",
     "output_type": "stream",
     "text": [
      "[[[0. 0.]\n",
      "  [0. 0.]]\n",
      "\n",
      " [[0. 0.]\n",
      "  [0. 0.]]]\n"
     ]
    }
   ],
   "source": [
    "print(zeros)"
   ]
  },
  {
   "cell_type": "code",
   "execution_count": 30,
   "metadata": {},
   "outputs": [
    {
     "name": "stdout",
     "output_type": "stream",
     "text": [
      "[[[7 7]\n",
      "  [7 7]]\n",
      "\n",
      " [[7 7]\n",
      "  [7 7]]]\n"
     ]
    }
   ],
   "source": [
    "print(full)"
   ]
  },
  {
   "cell_type": "code",
   "execution_count": 31,
   "metadata": {},
   "outputs": [
    {
     "name": "stdout",
     "output_type": "stream",
     "text": [
      "[[[1. 1.]\n",
      "  [1. 1.]]\n",
      "\n",
      " [[1. 1.]\n",
      "  [1. 1.]]]\n"
     ]
    }
   ],
   "source": [
    "print(ones)"
   ]
  },
  {
   "cell_type": "code",
   "execution_count": 32,
   "metadata": {},
   "outputs": [],
   "source": [
    "arr=np.array([\n",
    "    [1,2,3,4],\n",
    "    [1,2,3,4]\n",
    "])"
   ]
  },
  {
   "cell_type": "code",
   "execution_count": 33,
   "metadata": {},
   "outputs": [
    {
     "name": "stdout",
     "output_type": "stream",
     "text": [
      "<class 'numpy.ndarray'>\n",
      "[[1 2 3 4]\n",
      " [1 2 3 4]]\n"
     ]
    }
   ],
   "source": [
    "print(type(arr))\n",
    "print(arr)"
   ]
  },
  {
   "cell_type": "code",
   "execution_count": 34,
   "metadata": {},
   "outputs": [],
   "source": [
    "# attributes\n",
    "shape=data.shape\n",
    "size=data.size\n",
    "types=data.dtype"
   ]
  },
  {
   "cell_type": "code",
   "execution_count": 35,
   "metadata": {},
   "outputs": [
    {
     "name": "stdout",
     "output_type": "stream",
     "text": [
      "shape:  (2, 3, 4)\n",
      "size:  24\n",
      "types:  float64\n"
     ]
    }
   ],
   "source": [
    "print(\"shape: \",shape)\n",
    "print(\"size: \",size)\n",
    "print(\"types: \",types)"
   ]
  },
  {
   "cell_type": "code",
   "execution_count": 36,
   "metadata": {},
   "outputs": [],
   "source": [
    "# slicing\n",
    "arr=data[0]\n",
    "slicer=data[0:2]\n",
    "reverse=data[-1]"
   ]
  },
  {
   "cell_type": "code",
   "execution_count": 37,
   "metadata": {},
   "outputs": [
    {
     "name": "stdout",
     "output_type": "stream",
     "text": [
      "arr:  [[0.22611906 0.340451   0.62859971 0.47315313]\n",
      " [0.40293623 0.42255045 0.69406764 0.9900187 ]\n",
      " [0.46086838 0.48731473 0.57165599 0.37958446]]\n",
      "slicer:  [[[0.22611906 0.340451   0.62859971 0.47315313]\n",
      "  [0.40293623 0.42255045 0.69406764 0.9900187 ]\n",
      "  [0.46086838 0.48731473 0.57165599 0.37958446]]\n",
      "\n",
      " [[0.02529236 0.25226578 0.77530968 0.01118228]\n",
      "  [0.29229026 0.94828714 0.53851451 0.1499894 ]\n",
      "  [0.42595549 0.48447989 0.75203819 0.34360671]]]\n",
      "reverse:  [[0.02529236 0.25226578 0.77530968 0.01118228]\n",
      " [0.29229026 0.94828714 0.53851451 0.1499894 ]\n",
      " [0.42595549 0.48447989 0.75203819 0.34360671]]\n"
     ]
    }
   ],
   "source": [
    "print('arr: ',arr)\n",
    "print('slicer: ',slicer)\n",
    "print('reverse: ',reverse)\n"
   ]
  },
  {
   "cell_type": "code",
   "execution_count": 40,
   "metadata": {},
   "outputs": [],
   "source": [
    "list1=np.random.random(10)\n",
    "list2=np.random.random(10)"
   ]
  },
  {
   "cell_type": "code",
   "execution_count": 39,
   "metadata": {},
   "outputs": [
    {
     "name": "stdout",
     "output_type": "stream",
     "text": [
      "[0.1130348  0.82364627 0.46244181 0.93167074 0.55418472 0.45800321\n",
      " 0.39672404 0.30866922 0.5699079  0.07980207]\n"
     ]
    }
   ],
   "source": [
    "print(list1)"
   ]
  },
  {
   "cell_type": "code",
   "execution_count": 41,
   "metadata": {},
   "outputs": [
    {
     "name": "stdout",
     "output_type": "stream",
     "text": [
      "[0.64985554 0.22412536 0.43477264 0.67065666 0.01438918 0.88990937\n",
      " 0.51429326 0.43107856 0.93553821 0.97277282]\n"
     ]
    }
   ],
   "source": [
    "print(list2)"
   ]
  },
  {
   "cell_type": "code",
   "execution_count": 46,
   "metadata": {},
   "outputs": [],
   "source": [
    "add=np.add(list1,list2)\n",
    "sub=np.subtract(list1,list2)\n",
    "div=np.divide(list1,list2)\n",
    "mul=np.multiply(list1,list2)\n",
    "dot=np.dot(list1,list2)\n"
   ]
  },
  {
   "cell_type": "code",
   "execution_count": 45,
   "metadata": {},
   "outputs": [
    {
     "name": "stdout",
     "output_type": "stream",
     "text": [
      "[0.78751611 0.36273476 0.68391633 0.87527513 0.12727529 1.50678386\n",
      " 0.88160813 0.44284131 0.99760555 1.02651231]\n",
      "[-0.51219497 -0.08551595 -0.18562894 -0.46603819  0.09849692 -0.27303488\n",
      " -0.14697839 -0.4193158  -0.87347087 -0.91903333]\n",
      "[0.21183257 0.61844587 0.57304363 0.30510167 7.84520621 0.693188\n",
      " 0.71421288 0.0272868  0.06634399 0.05524362]\n",
      "[0.08945949 0.03106588 0.10832086 0.13722874 0.00162434 0.54896239\n",
      " 0.18890756 0.00507067 0.05806637 0.05227631]\n",
      "1.22098260877389\n"
     ]
    }
   ],
   "source": [
    "print(add)\n",
    "print(sub)\n",
    "print(div)\n",
    "print(mul)\n",
    "print(dot)\n"
   ]
  },
  {
   "cell_type": "code",
   "execution_count": 47,
   "metadata": {},
   "outputs": [],
   "source": [
    "# Stat Functions\n",
    "sqrt = np.sqrt(25)\n",
    "ab = np.abs(-2)\n",
    "power = np.power(2,7)\n",
    "log = np.log(25)\n",
    "exp = np.exp([2,3])\n",
    "mins = np.min(list1)\n",
    "maxs = np.max(list1)"
   ]
  },
  {
   "cell_type": "code",
   "execution_count": 49,
   "metadata": {},
   "outputs": [],
   "source": [
    "data[0][0][0]=100"
   ]
  },
  {
   "cell_type": "code",
   "execution_count": 50,
   "metadata": {},
   "outputs": [
    {
     "name": "stdout",
     "output_type": "stream",
     "text": [
      "(2, 3, 4)\n"
     ]
    }
   ],
   "source": [
    "print(data.shape)"
   ]
  },
  {
   "cell_type": "code",
   "execution_count": 57,
   "metadata": {},
   "outputs": [
    {
     "data": {
      "text/plain": [
       "(2, 2, 6)"
      ]
     },
     "execution_count": 57,
     "metadata": {},
     "output_type": "execute_result"
    }
   ],
   "source": [
    "data=data.reshape((2,2,-1))\n",
    "data.shape"
   ]
  },
  {
   "cell_type": "code",
   "execution_count": 63,
   "metadata": {},
   "outputs": [
    {
     "data": {
      "text/plain": [
       "array([[[0.02529236, 0.25226578, 0.77530968, 0.01118228, 0.29229026,\n",
       "         0.94828714],\n",
       "        [0.53851451, 0.1499894 , 0.42595549, 0.48447989, 0.75203819,\n",
       "         0.34360671]]])"
      ]
     },
     "execution_count": 63,
     "metadata": {},
     "output_type": "execute_result"
    }
   ],
   "source": [
    "# delete\n",
    "\n",
    "np.delete(data,0,axis=0)"
   ]
  },
  {
   "cell_type": "code",
   "execution_count": 64,
   "metadata": {},
   "outputs": [],
   "source": [
    "np.save('newArr',data)"
   ]
  },
  {
   "cell_type": "code",
   "execution_count": 68,
   "metadata": {},
   "outputs": [
    {
     "name": "stdout",
     "output_type": "stream",
     "text": [
      "[[[1.00000000e+02 3.40451000e-01 6.28599713e-01 4.73153126e-01\n",
      "   4.02936225e-01 4.22550448e-01]\n",
      "  [6.94067644e-01 9.90018700e-01 4.60868385e-01 4.87314730e-01\n",
      "   5.71655986e-01 3.79584455e-01]]\n",
      "\n",
      " [[2.52923551e-02 2.52265782e-01 7.75309681e-01 1.11822772e-02\n",
      "   2.92290260e-01 9.48287140e-01]\n",
      "  [5.38514507e-01 1.49989400e-01 4.25955491e-01 4.84479893e-01\n",
      "   7.52038191e-01 3.43606706e-01]]]\n"
     ]
    }
   ],
   "source": [
    "test=np.load('newArr.npy')\n",
    "print(test)"
   ]
  }
 ],
 "metadata": {
  "kernelspec": {
   "display_name": "Python 3",
   "language": "python",
   "name": "python3"
  },
  "language_info": {
   "codemirror_mode": {
    "name": "ipython",
    "version": 3
   },
   "file_extension": ".py",
   "mimetype": "text/x-python",
   "name": "python",
   "nbconvert_exporter": "python",
   "pygments_lexer": "ipython3",
   "version": "3.10.7"
  },
  "orig_nbformat": 4
 },
 "nbformat": 4,
 "nbformat_minor": 2
}

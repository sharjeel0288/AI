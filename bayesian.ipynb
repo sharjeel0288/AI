{
 "cells": [
  {
   "cell_type": "code",
   "execution_count": 27,
   "metadata": {},
   "outputs": [
    {
     "name": "stdout",
     "output_type": "stream",
     "text": [
      "A\n",
      "A\n",
      "['B', 'C']\n",
      "B\n",
      "0.33282\n",
      "Probability of winning by staying: 33235\n",
      "Probability of winning by switching: 66765\n"
     ]
    }
   ],
   "source": [
    "import random\n",
    "\n",
    "def doorSelection():\n",
    "    # Define the random variables\n",
    "    guest_options = ['A', 'B', 'C']\n",
    "    guest = random.choice(guest_options)\n",
    "    prize = random.choice(guest_options)\n",
    "    monty_options = [door for door in guest_options if door != guest and door != prize]\n",
    "    print(guest)\n",
    "    print(prize)\n",
    "    print(monty_options)\n",
    "    monty = random.choice(monty_options)\n",
    "    print(monty)\n",
    "\n",
    "    # Define the Bayesian Network\n",
    "    network = {\n",
    "        'guest': guest,\n",
    "        'prize': prize,\n",
    "        'monty': monty,\n",
    "    }\n",
    "\n",
    "    # Calculate probabilities\n",
    "    num_trials = 100000\n",
    "    wins_stay = 0\n",
    "    wins_switch = 0\n",
    "    for i in range(num_trials):\n",
    "        guest_choice = random.choice(guest_options)\n",
    "        if guest_choice == prize:\n",
    "            wins_stay += 1\n",
    "        else:\n",
    "            monty_options = [door for door in guest_options if door != guest_choice and door != prize]\n",
    "            monty_choice = random.choice(monty_options)\n",
    "            new_guest_options = [door for door in guest_options if door != guest_choice and door != monty_choice]\n",
    "            new_guest_choice = random.choice(new_guest_options)\n",
    "            if new_guest_choice == prize:\n",
    "                wins_switch += 1\n",
    "    print(wins_stay / num_trials)\n",
    "    return  float(wins_stay / num_trials), wins_switch / num_trials\n",
    "# Print the results\n",
    "win_stay,win_switch=doorSelection()\n",
    "print('Probability of winning by staying:', wins_stay )\n",
    "print('Probability of winning by switching:', wins_switch)\n"
   ]
  },
  {
   "cell_type": "code",
   "execution_count": null,
   "metadata": {},
   "outputs": [],
   "source": []
  }
 ],
 "metadata": {
  "kernelspec": {
   "display_name": "Python 3",
   "language": "python",
   "name": "python3"
  },
  "language_info": {
   "codemirror_mode": {
    "name": "ipython",
    "version": 3
   },
   "file_extension": ".py",
   "mimetype": "text/x-python",
   "name": "python",
   "nbconvert_exporter": "python",
   "pygments_lexer": "ipython3",
   "version": "3.10.7"
  },
  "orig_nbformat": 4
 },
 "nbformat": 4,
 "nbformat_minor": 2
}

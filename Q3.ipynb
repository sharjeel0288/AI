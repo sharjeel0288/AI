{
  "nbformat": 4,
  "nbformat_minor": 0,
  "metadata": {
    "colab": {
      "provenance": []
    },
    "kernelspec": {
      "name": "python3",
      "display_name": "Python 3"
    },
    "language_info": {
      "name": "python"
    }
  },
  "cells": [
    {
      "cell_type": "code",
      "source": [
        "import pandas as pd\n",
        "from sklearn.preprocessing import OneHotEncoder, StandardScaler\n",
        "from sklearn.model_selection import train_test_split, cross_val_score\n",
        "from sklearn.ensemble import RandomForestClassifier\n",
        "import numpy as np\n",
        "\n",
        "# Load the Iris flower dataset\n",
        "iris_data = pd.DataFrame({\n",
        "    'sepal_length': [5.1, 4.9, 4.7, 7.0, 6.4, 6.9, 6.5, 6.2, 5.9],\n",
        "    'sepal_width': [3.5, 3.0, 3.2, 3.2, 3.2, 3.1, 3.0, 3.4, 3.0],\n",
        "    'petal_length': [1.4, 1.4, 1.3, 4.7, 4.5, 4.9, 5.2, 5.4, 5.1],\n",
        "    'petal_width': [0.2, 0.2, 0.2, 1.4, 1.5, 1.5, 2.0, 2.3, 1.8],\n",
        "    'species': ['Iris setosa', 'Iris setosa', 'Iris setosa', 'Iris versicolor', 'Iris versicolor', 'Iris versicolor', 'Iris virginica', 'Iris virginica', 'Iris virginica']\n",
        "})\n",
        "\n",
        "# Split the dataset into features (X) and target (y)\n",
        "X = iris_data.iloc[:, :-1]\n",
        "y = iris_data.iloc[:, -1]\n",
        "\n",
        "# One-hot encode the target variable\n",
        "encoder = OneHotEncoder(sparse=False)\n",
        "y = encoder.fit_transform(y.values.reshape(-1, 1))\n",
        "\n",
        "# Split the data into training and testing sets\n",
        "X_train, X_test, y_train, y_test = train_test_split(X, y, test_size=0.2, random_state=42)\n",
        "\n",
        "# Scale the features\n",
        "scaler = StandardScaler()\n",
        "X_train = scaler.fit_transform(X_train)\n",
        "X_test = scaler.transform(X_test)\n",
        "\n",
        "# Train a Random Forest classifier with cross-validation\n",
        "n_estimators = [10, 50, 100, 150, 200] # define the number of trees to test\n",
        "max_depth = [2, 3, 4, 5, 6] # define the maximum depth of each tree to test\n",
        "cv_scores = [] # list to store cross-validation scores\n",
        "best_score = 0 # variable to store the best cross-validation score\n",
        "best_params = None # variable to store the best parameters\n",
        "for n in n_estimators:\n",
        "    for d in max_depth:\n",
        "        rf = RandomForestClassifier(n_estimators=n, max_depth=d, random_state=42)\n",
        "        scores = cross_val_score(rf, X_train, y_train, cv=5)\n",
        "        mean_score = np.mean(scores)\n",
        "        cv_scores.append(mean_score)\n",
        "        if mean_score > best_score:\n",
        "            best_score = mean_score\n",
        "            best_params = (n, d)\n",
        "\n",
        "# Train a Random Forest classifier on the full training set using the best parameters\n",
        "rf = RandomForestClassifier(n_estimators=best_params[0], max_depth=best_params[1], random_state=42)\n",
        "rf.fit(X_train, y_train)\n",
        "\n",
        "# Evaluate the classifier on the testing set\n",
        "accuracy = rf.score(X_test, y_test)\n",
        "print(f'Accuracy of Random Forest classifier with n_estimators={best_params[0]}, max_depth={best_params[1]}: {best_score:.2f}')\n",
        "\n",
        "# y_pred = model.predict(X_test)\n",
        "# accuracy = accuracy_score(y_test, y_pred)\n",
        "# print(f\"Accuracy: {accuracy}\")\n",
        "\n",
        "# Define the sample data\n",
        "sample_data = np.array([6.2, 2.8, 4.8, 1.8]).reshape(1, -1)\n",
        "\n",
        "# Scale the sample data using the scaler we fit earlier\n",
        "scaled_sample_data = scaler.transform(sample_data)\n",
        "\n",
        "# Make a prediction on the scaled sample data using the trained Random Forest classifier\n",
        "predicted_species = rf.predict(scaled_sample_data)\n",
        "\n",
        "# Inverse transform the predicted species to get the original label\n",
        "predicted_species = encoder.inverse_transform(predicted_species)\n",
        "\n",
        "# Print the predicted species\n",
        "print(predicted_species)\n",
        "\n",
        "\n",
        "\n",
        "\n",
        "\n"
      ],
      "metadata": {
        "colab": {
          "base_uri": "https://localhost:8080/"
        },
        "id": "4kSa7Wam3WZt",
        "outputId": "14b4ecaf-a025-4c78-a777-ee035f2b0418"
      },
      "execution_count": 25,
      "outputs": [
        {
          "output_type": "stream",
          "name": "stdout",
          "text": [
            "Accuracy of Random Forest classifier with n_estimators=50, max_depth=2: 0.80\n",
            "[['Iris virginica']]\n"
          ]
        }
      ]
    }
  ]
}
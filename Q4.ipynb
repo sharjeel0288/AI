{
  "nbformat": 4,
  "nbformat_minor": 0,
  "metadata": {
    "colab": {
      "provenance": []
    },
    "kernelspec": {
      "name": "python3",
      "display_name": "Python 3"
    },
    "language_info": {
      "name": "python"
    }
  },
  "cells": [
    {
      "cell_type": "code",
      "execution_count": 19,
      "metadata": {
        "colab": {
          "base_uri": "https://localhost:8080/"
        },
        "id": "thhKAH7g7PRB",
        "outputId": "0eecedd9-7225-47de-9269-0c82559852fd"
      },
      "outputs": [
        {
          "output_type": "stream",
          "name": "stdout",
          "text": [
            "Accuracy: 1.0\n",
            "Confusion Matrix: \n",
            "[[1 0]\n",
            " [0 1]]\n"
          ]
        }
      ],
      "source": [
        "import pandas as pd\n",
        "from sklearn.model_selection import train_test_split\n",
        "from sklearn.svm import SVC\n",
        "from sklearn.metrics import confusion_matrix, accuracy_score\n",
        "\n",
        "# Load the data into a Pandas dataframe\n",
        "transaction_data = pd.DataFrame({\n",
        "    'amount': [100.00, 200.00, 50.00, 75.00, 300.00, 150.00, 25.00, 500.00, 80.00],\n",
        "    'location': ['USA', 'Canada', 'USA', 'Mexico', 'USA', 'USA', 'Canada', 'Mexico', 'USA'],\n",
        "    'time': ['08:15', '13:45', '19:30', '11:00', '15:20', '22:00', '09:00', '17:30', '14:00'],\n",
        "    'fraudulent': ['No', 'No', 'Yes', 'No', 'Yes', 'Yes', 'No', 'Yes', 'No']\n",
        "})\n",
        "\n",
        "# Convert 'location' and 'fraudulent' columns to categorical data type\n",
        "transaction_data['location'] = transaction_data['location'].astype('category')\n",
        "transaction_data['fraudulent'] = transaction_data['fraudulent'].astype('category')\n",
        "\n",
        "# Convert 'fraudulent' column to binary values (0: No, 1: Yes)\n",
        "transaction_data['fraudulent'] = transaction_data['fraudulent'].cat.codes\n",
        "\n",
        "transaction_data['location'] = transaction_data['location'].cat.codes\n",
        "\n",
        "# Extract hour and minute values from the 'time' column and combine them into a single numerical value\n",
        "transaction_data['time'] = pd.to_datetime(transaction_data['time'], format='%H:%M').dt.hour * 60 + pd.to_datetime(transaction_data['time'], format='%H:%M').dt.minute\n",
        "\n",
        "X=transaction_data.iloc[:,:-1]\n",
        "y=transaction_data.iloc[:,-1]\n",
        "# print(X)\n",
        "# print(y)\n",
        "# Split the data into training and testing sets\n",
        "X_train, X_test, y_train, y_test = train_test_split(X, y,\n",
        "                                                    test_size=0.2, \n",
        "                                                    random_state=42)\n",
        "\n",
        "# Define the SVM model with a linear kernel\n",
        "svm_model = SVC(kernel='linear')\n",
        "\n",
        "# Train the SVM model using the training data\n",
        "svm_model.fit(X_train, y_train)\n",
        "\n",
        "# Make predictions on the testing data\n",
        "y_pred = svm_model.predict(X_test)\n",
        "\n",
        "# Calculate the accuracy score\n",
        "accuracy = accuracy_score(y_test, y_pred)\n",
        "\n",
        "# Calculate the confusion matrix\n",
        "cm = confusion_matrix(y_test, y_pred)\n",
        "\n",
        "print(f'Accuracy: {accuracy}')\n",
        "print(f'Confusion Matrix: \\n{cm}')\n",
        "\n",
        "\n",
        "\n",
        "\n",
        "\n",
        "\n"
      ]
    },
    {
      "cell_type": "code",
      "source": [
        "import numpy as np\n",
        "\n",
        "\n",
        "# Convert new transaction data into a Pandas DataFrame\n",
        "new_transaction = pd.DataFrame(np.array([[200, 'USA', '10:00']], dtype=object), columns=['amount', 'location', 'time'])\n",
        "\n",
        "# Convert 'location' column to categorical data type\n",
        "new_transaction['location'] = new_transaction['location'].astype('category')\n",
        "new_transaction['location'] = new_transaction['location'].cat.codes\n",
        "\n",
        "# Convert 'time' column to datetime data type and extract hour and minute values\n",
        "new_transaction['time'] = pd.to_datetime(new_transaction['time'], format='%H:%M').dt.hour * 60 + pd.to_datetime(new_transaction['time'], format='%H:%M').dt.minute\n",
        "\n",
        "# Use the trained SVM model to make a prediction\n",
        "prediction = svm_model.predict(new_transaction)\n",
        "if (prediction==0):\n",
        "  print(f'New transaction prediction: No')\n",
        "else:\n",
        "  print(f'New transaction prediction: Yes')"
      ],
      "metadata": {
        "colab": {
          "base_uri": "https://localhost:8080/"
        },
        "id": "lVU2xjuZBSCL",
        "outputId": "6c4c75e5-10f3-447a-fd2f-156f5aff5a22"
      },
      "execution_count": 20,
      "outputs": [
        {
          "output_type": "stream",
          "name": "stdout",
          "text": [
            "New transaction prediction: No\n"
          ]
        }
      ]
    }
  ]
}